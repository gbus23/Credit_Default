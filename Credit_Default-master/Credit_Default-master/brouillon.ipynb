{
 "cells": [
  {
   "cell_type": "code",
   "execution_count": null,
   "id": "f7257845",
   "metadata": {},
   "outputs": [],
   "source": [
    "import numpy as np\n",
    "import pandas as pd\n",
    "from scipy.stats import norm\n",
    "from scipy.optimize import root\n",
    "import yfinance as yf\n",
    "import matplotlib.pyplot as plt\n"
   ]
  },
  {
   "cell_type": "code",
   "execution_count": null,
   "id": "301882c9",
   "metadata": {},
   "outputs": [],
   "source": [
    "def merton_equations(x, E, sigma_E, D, r, T):\n",
    "    V, sigma_V = x\n",
    "    d1 = (np.log(V / D) + (r + 0.5 * sigma_V**2) * T) / (sigma_V * np.sqrt(T))\n",
    "    d2 = d1 - sigma_V * np.sqrt(T)\n",
    "    eq1 = V * norm.cdf(d1) - D * np.exp(-r * T) * norm.cdf(d2) - E\n",
    "    eq2 = sigma_V * V * norm.cdf(d1) - sigma_E * E\n",
    "    return [eq1, eq2]\n"
   ]
  },
  {
   "cell_type": "code",
   "execution_count": null,
   "id": "e38ef5e3",
   "metadata": {},
   "outputs": [],
   "source": [
    "# import yfinance as yf\n",
    "# import pandas as pd\n",
    "\n",
    "# def get_price_and_vol(ticker, period=\"1y\"):\n",
    "#     try:\n",
    "#         stock = yf.Ticker(ticker)\n",
    "#         hist = stock.history(period=period)\n",
    "\n",
    "#         if hist.empty:\n",
    "#             raise ValueError(\"Données historiques vides.\")\n",
    "\n",
    "#         # Nettoyage\n",
    "#         hist = hist.dropna()\n",
    "#         adj_close = hist[\"Close\"]  # ou \"Adj Close\" si présent\n",
    "#         price = adj_close.iloc[-1]\n",
    "#         returns = adj_close.pct_change().dropna()\n",
    "#         sigma = returns.std() * (252 ** 0.5)\n",
    "\n",
    "#         return price, sigma, hist\n",
    "\n",
    "#     except Exception as e:\n",
    "#         print(f\"Erreur pour {ticker} : {e}\")\n",
    "#         return None, None, None\n"
   ]
  },
  {
   "cell_type": "code",
   "execution_count": null,
   "id": "32655fef",
   "metadata": {},
   "outputs": [],
   "source": [
    "# price, sigma_E, df = get_price_and_vol(\"AAPL\")\n",
    "# print(f\"Prix actuel : {price:.2f}, Vol annualisée : {sigma_E:.2%}\")\n"
   ]
  },
  {
   "cell_type": "code",
   "execution_count": null,
   "id": "7bb9dead",
   "metadata": {},
   "outputs": [],
   "source": [
    "# Télécharger les données\n",
    "ticker = \"AAL\"\n",
    "data = yf.download(ticker, period=\"1y\")\n",
    "\n",
    "# Vérifier si les données sont bien présentes\n",
    "if data.empty:\n",
    "    raise ValueError(f\"Aucune donnée disponible pour le ticker {ticker}.\")\n",
    "\n",
    "# Choisir la bonne colonne de prix\n",
    "price_col = 'Adj Close' if 'Adj Close' in data.columns else 'Close'\n",
    "prices = data[price_col].dropna()\n",
    "\n",
    "# Prix actuel de l'action (dernier jour)\n",
    "price = float(prices.iloc[-1].item())\n",
    "\n",
    "# Calcul des rendements log\n",
    "returns = np.log(prices / prices.shift(1)).dropna()\n",
    "\n",
    "# Volatilité annualisée de l'action (σ_E)\n",
    "sigma_E = float(returns.std()) * np.sqrt(252)\n",
    "\n",
    "\n",
    "# Paramètres Merton\n",
    "E = price * 660_000_000        # Capitalisation boursière\n",
    "D =40_000_000_000              # Dette (valeur nominale)\n",
    "T = 1.0                         # Horizon 1 an\n",
    "r = 0.04                        # Taux sans risque\n",
    "\n",
    "# Affichage\n",
    "\n",
    "\n",
    "print(f\"Prix actuel : {price:.2f} USD\")\n",
    "print(f\"Volatilité annualisée : {sigma_E:.2%}\")\n",
    "print(f\"Capitalisation estimée : {E/1e9:.2f} Bn USD\")\n"
   ]
  },
  {
   "cell_type": "code",
   "execution_count": null,
   "id": "fdf4fb86",
   "metadata": {},
   "outputs": [],
   "source": [
    "initial_guess = [E + D, 0.3]\n",
    "sol = root(merton_equations, initial_guess, args=(E, sigma_E, D, r, T))\n",
    "V, sigma_V = sol.x\n"
   ]
  },
  {
   "cell_type": "code",
   "execution_count": null,
   "id": "ce32bb69",
   "metadata": {},
   "outputs": [],
   "source": [
    "d2 = (np.log(V / D) + (r - 0.5 * sigma_V**2) * T) / (sigma_V * np.sqrt(T))\n",
    "PD = norm.cdf(-d2)\n",
    "print(f\"Probabilité de défaut estimée : {PD:.2%}\")\n"
   ]
  },
  {
   "cell_type": "code",
   "execution_count": null,
   "id": "15b62791",
   "metadata": {},
   "outputs": [],
   "source": [
    "\n",
    "ticker = \"AAL\"\n",
    "stock = yf.Ticker(ticker)\n",
    "info = stock.info\n",
    "\n",
    "shares = info.get(\"sharesOutstanding\")\n",
    "debt = info.get(\"totalDebt\")\n",
    "\n",
    "print(f\"Shares outstanding: {shares:,}\")\n",
    "print(f\"Total debt: {debt:,} USD\")"
   ]
  }
 ],
 "metadata": {
  "kernelspec": {
   "display_name": "gbus-env",
   "language": "python",
   "name": "python3"
  },
  "language_info": {
   "codemirror_mode": {
    "name": "ipython",
    "version": 3
   },
   "file_extension": ".py",
   "mimetype": "text/x-python",
   "name": "python",
   "nbconvert_exporter": "python",
   "pygments_lexer": "ipython3",
   "version": "3.10.14"
  }
 },
 "nbformat": 4,
 "nbformat_minor": 5
}
